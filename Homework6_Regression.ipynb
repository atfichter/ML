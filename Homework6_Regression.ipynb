{
  "cells": [
    {
      "cell_type": "markdown",
      "metadata": {
        "id": "icX_TgUyDu6d"
      },
      "source": [
        "# Homework 6\n",
        "\n",
        "For this homework, you'll be looking at the survey data gathered from the last exam. For each cell, answer the question either with code or text, as specified.\n",
        "\n",
        "The data is here: https://drive.google.com/file/d/1-0d9sGptmBTbzf4jRGYDE8pWwxz0d-0z/view?usp=sharing\n",
        "\n",
        "Copy this notebook, fill it out, and then submit it.\n"
      ]
    },
    {
      "cell_type": "markdown",
      "metadata": {
        "id": "6Tf-_X-rEAuk"
      },
      "source": [
        "# Question 1\n",
        "\n",
        "Write code to load in the data in a dataframe."
      ]
    },
    {
      "cell_type": "code",
      "execution_count": 657,
      "metadata": {
        "id": "obj5fo5cEGna"
      },
      "outputs": [
        {
          "name": "stdout",
          "output_type": "stream",
          "text": [
            "   Unnamed: 0        Time  Hours_Studied Friend   Fair Lectures Assignments  \\\n",
            "0           0  4:45:00 PM            4.0     No    Yes      Yes         Yes   \n",
            "1           1  4:45:14 PM            4.0    Yes  Kinda    Kinda       Kinda   \n",
            "2           2  4:40:00 PM            4.0    Yes    Yes       No         Yes   \n",
            "3           3  4:45:00 PM            7.0     No    Yes       No          No   \n",
            "4           4  4:45:55 PM            2.0     No    Yes      Yes         Yes   \n",
            "\n",
            "   Sleep   XP Class      Grade    Mystery  \n",
            "0    7.0   No   Yes  66.509746  30.644589  \n",
            "1    3.0   No   Yes  73.447272  37.825654  \n",
            "2    8.0   No   Yes  61.562473  32.678616  \n",
            "3    8.0   No   Yes  53.426324  30.805367  \n",
            "4    6.0  Yes   Yes  79.710070  40.256162  \n"
          ]
        }
      ],
      "source": [
        "import pandas as pd\n",
        "\n",
        "name = 'MidtermSurvey_Processed.csv'\n",
        "\n",
        "df = pd.read_csv(name)\n",
        "\n",
        "print(df.head())"
      ]
    },
    {
      "cell_type": "markdown",
      "metadata": {
        "id": "mDHcdeVREHE0"
      },
      "source": [
        "# Question 2\n",
        "\n",
        "Create a column that measures, in minutes, how long each student took for their exam. Print the column at the end."
      ]
    },
    {
      "cell_type": "code",
      "execution_count": 658,
      "metadata": {
        "id": "87nz1WAjENxT"
      },
      "outputs": [
        {
          "name": "stdout",
          "output_type": "stream",
          "text": [
            "0      75.000000\n",
            "1      75.233333\n",
            "2      70.000000\n",
            "3      75.000000\n",
            "4      75.916667\n",
            "         ...    \n",
            "396          NaN\n",
            "397          NaN\n",
            "398          NaN\n",
            "399          NaN\n",
            "400          NaN\n",
            "Name: duration_in_minutes, Length: 401, dtype: float64\n"
          ]
        },
        {
          "name": "stderr",
          "output_type": "stream",
          "text": [
            "/var/folders/w2/gjxl1sr96k56x0nj2_42f53m0000gp/T/ipykernel_2692/2251346674.py:1: UserWarning: Could not infer format, so each element will be parsed individually, falling back to `dateutil`. To ensure parsing is consistent and as-expected, please specify a format.\n",
            "  df['Time'] = pd.to_datetime(df['Time'])\n"
          ]
        }
      ],
      "source": [
        "df['Time'] = pd.to_datetime(df['Time'])\n",
        "\n",
        "start_time = pd.to_datetime('15:30:00')\n",
        "\n",
        "df['duration_in_minutes'] = (df['Time'] - start_time).dt.total_seconds() / 60\n",
        "\n",
        "print(df['duration_in_minutes'])"
      ]
    },
    {
      "cell_type": "markdown",
      "metadata": {
        "id": "vn2AxtVKEOFx"
      },
      "source": [
        "# Question 3\n",
        "\n",
        "Create a graph, comparing the distributions of the grades of students who thought the exam was fair, kind of fair, or not fair. (Note: If you create a graph that does not do a good job visuaizing this, you will loose points. For example, if you make a pie chart somehow, the graders will have no mercy)."
      ]
    },
    {
      "cell_type": "code",
      "execution_count": 659,
      "metadata": {
        "id": "nr3V-hKVEjSg"
      },
      "outputs": [
        {
          "name": "stdout",
          "output_type": "stream",
          "text": [
            "Index(['Unnamed: 0', 'Time', 'Hours_Studied', 'Friend', 'Fair', 'Lectures',\n",
            "       'Assignments', 'Sleep', 'XP', 'Class', 'Grade', 'Mystery',\n",
            "       'duration_in_minutes'],\n",
            "      dtype='object')\n"
          ]
        },
        {
          "data": {
            "image/png": "[encoded data removed]",
            "text/plain": [
              "<Figure size 1000x600 with 1 Axes>"
            ]
          },
          "metadata": {},
          "output_type": "display_data"
        }
      ],
      "source": [
        "print(df.columns)\n",
        "import matplotlib.pyplot as plt\n",
        "fair_df = df[df['Fair'] == 'Yes']['Grade']\n",
        "kinda_fair_df = df[df['Fair'] == 'Kinda']['Grade']\n",
        "not_fair_df = df[df['Fair'] == 'No']['Grade']\n",
        "\n",
        "# Data and labels\n",
        "data = [fair_df, kinda_fair_df, not_fair_df]\n",
        "labels = ['Fair', 'Kinda', 'Not Fair']\n",
        "\n",
        "# Create the boxplot\n",
        "plt.figure(figsize=(10, 6))\n",
        "plt.boxplot(data, labels=labels)\n",
        "\n",
        "plt.title('Grade Distribution by Perception of Exam Fairness')\n",
        "plt.xlabel('Perception of Fairness')\n",
        "plt.ylabel('Grade')\n",
        "plt.grid(True)\n",
        "plt.show()\n"
      ]
    },
    {
      "cell_type": "markdown",
      "metadata": {
        "id": "25iHak3TEjtq"
      },
      "source": [
        "# Question 4\n",
        "\n",
        "Do a hypothesis test to see if the distributions of student's grades for those of whom thought the exam was fair, kinda fair, or unfair have a stastically significant difference in mean. Print your p-value."
      ]
    },
    {
      "cell_type": "code",
      "execution_count": 660,
      "metadata": {
        "id": "os32VHpnE4ol"
      },
      "outputs": [
        {
          "name": "stdout",
          "output_type": "stream",
          "text": [
            "ANOVA test p-value: 0.8389966340907092\n",
            "there is no stastically significant difference in mean\n"
          ]
        }
      ],
      "source": [
        "from scipy import stats\n",
        "\n",
        "# Perform ANOVA\n",
        "f_statistic, p_value = stats.f_oneway(fair_df, kinda_fair_df, not_fair_df)\n",
        "\n",
        "# Print the p-value\n",
        "print(\"ANOVA test p-value:\", p_value)\n",
        "print(\"there is no stastically significant difference in mean\")"
      ]
    },
    {
      "cell_type": "markdown",
      "metadata": {
        "id": "0ueYAh3pFdY_"
      },
      "source": [
        "# Question 5\n",
        "\n",
        "Does studying more improve your score? Find out, and summarize the results below in text format. If it does not, speculate as to why."
      ]
    },
    {
      "cell_type": "code",
      "execution_count": 661,
      "metadata": {
        "id": "sgZV3ogeFkDJ"
      },
      "outputs": [
        {
          "name": "stdout",
          "output_type": "stream",
          "text": [
            "Pearson Correlation Coefficient: 0.06286069182995388, P-value: 0.32615834241685104\n"
          ]
        }
      ],
      "source": [
        "import scipy.stats as stats\n",
        "\n",
        "df_cleaned = df.dropna(subset=['Hours_Studied', 'Grade'])\n",
        "correlation_coef, p_value = stats.pearsonr(df_cleaned['Hours_Studied'], df_cleaned['Grade'])\n",
        "print(f\"Pearson Correlation Coefficient: {correlation_coef}, P-value: {p_value}\")\n"
      ]
    },
    {
      "cell_type": "markdown",
      "metadata": {
        "id": "DLcor2xRFiVq"
      },
      "source": [
        "Since the pearson correlation coefficient is very low and positive suggests that there is a small positive corrilation between hours studied and grade. Also the p_value is more than 0.5% saying that the correlation isn't really significant."
      ]
    },
    {
      "cell_type": "markdown",
      "metadata": {
        "id": "O0A92bjKE5Fa"
      },
      "source": [
        "# Question 6\n",
        "\n",
        "Make another graph based on a question you think might be interesting."
      ]
    },
    {
      "cell_type": "code",
      "execution_count": 662,
      "metadata": {
        "id": "lYIdPf5xFBbZ"
      },
      "outputs": [
        {
          "data": {
            "image/png": "[encoded data removed]",
            "text/plain": [
              "<Figure size 1000x600 with 1 Axes>"
            ]
          },
          "metadata": {},
          "output_type": "display_data"
        }
      ],
      "source": [
        "goes_df = df[df['Lectures'] == 'Yes']['Grade']\n",
        "kinda_goes_df = df[df['Lectures'] == 'Kinda']['Grade']\n",
        "not_going_df = df[df['Lectures'] == 'No']['Grade']\n",
        "\n",
        "# Data and labels\n",
        "data = [goes_df, kinda_goes_df, not_going_df]\n",
        "labels = ['Goes To Class', 'Kinda Goes To Class', 'Doesn\\'t Go To Class']\n",
        "\n",
        "# Create the boxplot\n",
        "plt.figure(figsize=(10, 6))\n",
        "plt.boxplot(data, labels=labels)\n",
        "\n",
        "plt.title('Grade Distribution by going to class')\n",
        "plt.xlabel('Attendence')\n",
        "plt.ylabel('Grade')\n",
        "plt.grid(True)\n",
        "plt.show()"
      ]
    },
    {
      "cell_type": "markdown",
      "metadata": {
        "id": "m5VHxwI5Jl8i"
      },
      "source": [
        "# Question 7\n",
        "\n",
        "Do a hypothesis test on something you think is interesting."
      ]
    },
    {
      "cell_type": "code",
      "execution_count": 663,
      "metadata": {
        "id": "yOh7gO2FJpCB"
      },
      "outputs": [
        {
          "name": "stdout",
          "output_type": "stream",
          "text": [
            "hypothesis: do people that go to lecture get a better grade on the exam\n",
            "ANOVA test p-value: 0.25419180709946954\n",
            "there is no significant difference\n",
            "Mean for fun: 62.82564290839239\n"
          ]
        }
      ],
      "source": [
        "print(\"hypothesis: do people that go to lecture get a better grade on the exam\")\n",
        "f_statistic, p_value = stats.f_oneway(goes_df, kinda_goes_df, not_going_df)\n",
        "\n",
        "# Print the p-value\n",
        "print(\"ANOVA test p-value:\", p_value)\n",
        "print(\"there is no significant difference\")\n",
        "\n",
        "print(\"Mean for fun:\",df['Grade'].mean())"
      ]
    },
    {
      "cell_type": "markdown",
      "metadata": {
        "id": "XPKkUx1UFCFS"
      },
      "source": [
        "# Question 8\n",
        "\n",
        "Write code that trains a regression algorithm over the data, predicting grade. You may not use the \"mystery\" column, but you may use all other columns. You must get an R^2 value > .09.\n",
        "\n",
        "(Note: This is going to be involved! You'll have to pick a regression algorithm and possibly do some preprocessing. Use what you learned in homework 5 to train it. You don't need a test set, since it's regression!)"
      ]
    },
    {
      "cell_type": "code",
      "execution_count": 667,
      "metadata": {
        "id": "hzQ3iPZyFww8"
      },
      "outputs": [
        {
          "name": "stdout",
          "output_type": "stream",
          "text": [
            "R^2 value: 0.47288578537104786\n"
          ]
        }
      ],
      "source": [
        "from sklearn.linear_model import LinearRegression\n",
        "from sklearn.metrics import r2_score\n",
        "from sklearn.preprocessing import OneHotEncoder, StandardScaler\n",
        "from sklearn.compose import ColumnTransformer\n",
        "from sklearn.pipeline import Pipeline\n",
        "\n",
        "df = pd.read_csv('MidtermSurvey_Processed.csv')\n",
        "\n",
        "df = df.drop(columns=['Mystery'])\n",
        "\n",
        "df = df.dropna(subset=['Grade'])\n",
        "\n",
        "x = df.drop('Grade', axis=1)\n",
        "y = df['Grade']\n",
        "\n",
        "categorical_features = x.select_dtypes(include=['object', 'category']).columns\n",
        "numerical_features = x.select_dtypes(include=['int64', 'float64']).columns\n",
        "\n",
        "numeric = Pipeline(steps=[\n",
        "    ('scaler', StandardScaler())\n",
        "])\n",
        "\n",
        "categorical = Pipeline(steps=[\n",
        "    ('onehot', OneHotEncoder(handle_unknown='ignore'))\n",
        "])\n",
        "\n",
        "preprocessor = ColumnTransformer(\n",
        "    transformers=[\n",
        "        ('num', numeric, numerical_features),\n",
        "        ('cat', categorical, categorical_features)\n",
        "    ])\n",
        "\n",
        "regression_pipeline = Pipeline(steps=[('preprocessor', preprocessor),\n",
        "                                      ('regressor', LinearRegression())])\n",
        "\n",
        "regression_pipeline.fit(x, y)\n",
        "\n",
        "y_pred = regression_pipeline.predict(X)\n",
        "r2 = r2_score(y, y_pred)\n",
        "print(f\"R^2 value: {r2}\")"
      ]
    },
    {
      "cell_type": "markdown",
      "metadata": {
        "id": "Ax4ViMC1FxCY"
      },
      "source": [
        "# Question 9\n",
        "\n",
        "Is your model any good? What does its performance tell you about the input variables' relationship to your grade?"
      ]
    },
    {
      "attachments": {},
      "cell_type": "markdown",
      "metadata": {
        "id": "2_AwKBkJF54e"
      },
      "source": [
        "The model explains almost half of the varience, so it isn't the best model but it does allow for you to understand the model better than before. THe performance tell me that the input variables relationship to grades is pretty good considering I gained more information."
      ]
    },
    {
      "cell_type": "markdown",
      "metadata": {
        "id": "grijV8YAF7Dz"
      },
      "source": [
        "# Question 10\n",
        "\n",
        "Execute the same code with the addition of the mystery column. You must get an R^2 higher than .7. Print your R^2 value."
      ]
    },
    {
      "cell_type": "code",
      "execution_count": 668,
      "metadata": {
        "id": "QGDonMG6GEgU"
      },
      "outputs": [
        {
          "name": "stdout",
          "output_type": "stream",
          "text": [
            "R^2 value: 0.9175529682597667\n",
            "max mystery:  44.93045000353338\n",
            "min mystery:  14.985706355406128\n",
            "mean mystery:  32.487637343736466\n"
          ]
        }
      ],
      "source": [
        "df = pd.read_csv('MidtermSurvey_Processed.csv')\n",
        "\n",
        "df = df.dropna(subset=['Grade'])\n",
        "\n",
        "x = df.drop('Grade', axis=1)\n",
        "y = df['Grade']\n",
        "\n",
        "categorical_features = x.select_dtypes(include=['object', 'category']).columns\n",
        "numerical_features = x.select_dtypes(include=['int64', 'float64']).columns\n",
        "\n",
        "numeric = Pipeline(steps=[\n",
        "    ('scaler', StandardScaler())\n",
        "])\n",
        "\n",
        "categorical = Pipeline(steps=[\n",
        "    ('onehot', OneHotEncoder(handle_unknown='ignore'))\n",
        "])\n",
        "\n",
        "preprocessor = ColumnTransformer(\n",
        "    transformers=[\n",
        "        ('num', numeric, numerical_features),\n",
        "        ('cat', categorical, categorical_features)\n",
        "    ])\n",
        "\n",
        "regression_pipeline = Pipeline(steps=[('preprocessor', preprocessor),\n",
        "                                      ('regressor', LinearRegression())])\n",
        "\n",
        "regression_pipeline.fit(x, y)\n",
        "\n",
        "y_pred = regression_pipeline.predict(X)\n",
        "r2 = r2_score(y, y_pred)\n",
        "print(f\"R^2 value: {r2}\")\n",
        "\n",
        "print(\"max mystery: \", df['Mystery'].max())\n",
        "print(\"min mystery: \", df['Mystery'].min())\n",
        "print(\"mean mystery: \", df['Mystery'].mean())"
      ]
    },
    {
      "cell_type": "markdown",
      "metadata": {
        "id": "zzHdAhCiGEv7"
      },
      "source": [
        "What is the mystery column, and why did it boost your model's accuracy so much?"
      ]
    },
    {
      "cell_type": "code",
      "execution_count": 669,
      "metadata": {
        "id": "3NyA6QaSGJvn"
      },
      "outputs": [
        {
          "name": "stdout",
          "output_type": "stream",
          "text": [
            "The mystery column could be the gpa of the student on a 45 point scale (thus 4.5 * 10) or it could be another\n",
            "external data about the student like highschool gpa or the current grade in the class. This would increase the\n",
            "model's accuracy by adding more information relative to the people grades having a high correlation.\n"
          ]
        }
      ],
      "source": [
        "print(\"The mystery column could be the gpa of the student on a 45 point scale (thus 4.5 * 10) or it could be another\")\n",
        "print(\"external data about the student like highschool gpa or the current grade in the class. This would increase the\")\n",
        "print(\"model's accuracy by adding more information relative to the people grades having a high correlation.\")"
      ]
    }
  ],
  "metadata": {
    "colab": {
      "provenance": []
    },
    "kernelspec": {
      "display_name": "Python 3",
      "name": "python3"
    },
    "language_info": {
      "codemirror_mode": {
        "name": "ipython",
        "version": 3
      },
      "file_extension": ".py",
      "mimetype": "text/x-python",
      "name": "python",
      "nbconvert_exporter": "python",
      "pygments_lexer": "ipython3",
      "version": "3.11.5"
    }
  },
  "nbformat": 4,
  "nbformat_minor": 0
}
