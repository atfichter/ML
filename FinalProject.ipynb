{
  "cells": [
    {
      "attachments": {},
      "cell_type": "markdown",
      "metadata": {
        "id": "y2MZurcV4Dqo"
      },
      "source": [
        "# Final Project\n",
        "\n",
        "For the following project, you will be working with a movie dataset. The dataset is [here](https://drive.google.com/file/d/1R53inu8Jcb9GGoyiuVnBMVnO7XvCaJAE/view?usp=drive_link). The dataset columns are as follows:\n",
        "\n",
        "* Title: The movie's title\n",
        "* Genre: The movie's genre\n",
        "* Stars: The number of famous actors in the movie\n",
        "* Runtime: The length of the movie's runtime\n",
        "* Budget: How much was spent on filming the movie (in millions)\n",
        "* Promo: How much money was spent promoting the movie (in millions)\n",
        "* Season: The season in which the movie was released\n",
        "* Rating: The movie's rating\n",
        "* R1: Reviewer 1's review\n",
        "* R1: Reviewer 2's review\n",
        "* R1: Reviewer 3's review\n",
        "\n",
        "And the target variable:\n",
        "\n",
        "* Success: Whether the film was a success or a flop\n",
        "\n",
        "Fill in the answers to questions in the text field, and show your code below."
      ]
    },
    {
      "attachments": {},
      "cell_type": "markdown",
      "metadata": {
        "id": "pMd--NtS6UYo"
      },
      "source": [
        "# Data loading\n",
        "\n",
        "Load the data"
      ]
    },
    {
      "cell_type": "code",
      "execution_count": 389,
      "metadata": {
        "id": "pPlRDp5R1Di5"
      },
      "outputs": [
        {
          "data": {
            "text/html": [
              "<div>\n",
              "<style scoped>\n",
              "    .dataframe tbody tr th:only-of-type {\n",
              "        vertical-align: middle;\n",
              "    }\n",
              "\n",
              "    .dataframe tbody tr th {\n",
              "        vertical-align: top;\n",
              "    }\n",
              "\n",
              "    .dataframe thead th {\n",
              "        text-align: right;\n",
              "    }\n",
              "</style>\n",
              "<table border=\"1\" class=\"dataframe\">\n",
              "  <thead>\n",
              "    <tr style=\"text-align: right;\">\n",
              "      <th></th>\n",
              "      <th>Unnamed: 0</th>\n",
              "      <th>Title</th>\n",
              "      <th>Runtime</th>\n",
              "      <th>Stars</th>\n",
              "      <th>Year</th>\n",
              "      <th>Budget</th>\n",
              "      <th>Promo</th>\n",
              "      <th>Season</th>\n",
              "      <th>Rating</th>\n",
              "      <th>Genre</th>\n",
              "      <th>R1</th>\n",
              "      <th>R2</th>\n",
              "      <th>R3</th>\n",
              "      <th>Success</th>\n",
              "    </tr>\n",
              "  </thead>\n",
              "  <tbody>\n",
              "    <tr>\n",
              "      <th>0</th>\n",
              "      <td>0</td>\n",
              "      <td>\"Love in the Inbox\"</td>\n",
              "      <td>126</td>\n",
              "      <td>1</td>\n",
              "      <td>2020</td>\n",
              "      <td>6.679387e+07</td>\n",
              "      <td>73.543754</td>\n",
              "      <td>Winter</td>\n",
              "      <td>PG</td>\n",
              "      <td>Romantic Comedy</td>\n",
              "      <td>\"An unconvincing portrayal of suspense that fa...</td>\n",
              "      <td>\"An uninspired plotline that lacks coherence a...</td>\n",
              "      <td>\"A visually captivating masterpiece that mesme...</td>\n",
              "      <td>False</td>\n",
              "    </tr>\n",
              "    <tr>\n",
              "      <th>1</th>\n",
              "      <td>1</td>\n",
              "      <td>\"Coffee Shop Serendipity\"</td>\n",
              "      <td>131</td>\n",
              "      <td>0</td>\n",
              "      <td>2020</td>\n",
              "      <td>4.667863e+01</td>\n",
              "      <td>33.572003</td>\n",
              "      <td>Fall</td>\n",
              "      <td>PG</td>\n",
              "      <td>Romantic Comedy</td>\n",
              "      <td>\"A movie that feels disjointed and fails to co...</td>\n",
              "      <td>\"An attempt at humor that lacks cleverness and...</td>\n",
              "      <td>\"A timeless classic that continues to enchant ...</td>\n",
              "      <td>False</td>\n",
              "    </tr>\n",
              "    <tr>\n",
              "      <th>2</th>\n",
              "      <td>2</td>\n",
              "      <td>\"The Wedding Date Dilemma\"</td>\n",
              "      <td>132</td>\n",
              "      <td>4</td>\n",
              "      <td>2000</td>\n",
              "      <td>3.639134e+01</td>\n",
              "      <td>54.561523</td>\n",
              "      <td>Summer</td>\n",
              "      <td>PG</td>\n",
              "      <td>Romantic Comedy</td>\n",
              "      <td>\"An underwhelming cinematic effort with unconv...</td>\n",
              "      <td>\"An emotionally resonant movie that connects u...</td>\n",
              "      <td>\"A cinematic triumph that surpasses boundaries...</td>\n",
              "      <td>False</td>\n",
              "    </tr>\n",
              "    <tr>\n",
              "      <th>3</th>\n",
              "      <td>3</td>\n",
              "      <td>\"Heartstrings and Highways\"</td>\n",
              "      <td>132</td>\n",
              "      <td>1</td>\n",
              "      <td>2015</td>\n",
              "      <td>9.324732e+01</td>\n",
              "      <td>59.714535</td>\n",
              "      <td>Winter</td>\n",
              "      <td>PG13</td>\n",
              "      <td>Romantic Comedy</td>\n",
              "      <td>\"A film that fails to resonate due to its lack...</td>\n",
              "      <td>\"A beautifully crafted narrative that unfolds ...</td>\n",
              "      <td>\"An uninspired portrayal of drama that feels s...</td>\n",
              "      <td>False</td>\n",
              "    </tr>\n",
              "    <tr>\n",
              "      <th>4</th>\n",
              "      <td>4</td>\n",
              "      <td>\"Falling for Cupid\"</td>\n",
              "      <td>119</td>\n",
              "      <td>1</td>\n",
              "      <td>2015</td>\n",
              "      <td>9.213021e+01</td>\n",
              "      <td>67.643810</td>\n",
              "      <td>Fall</td>\n",
              "      <td>PG13</td>\n",
              "      <td>Romantic Comedy</td>\n",
              "      <td>\"A movie that struggles to evoke any genuine e...</td>\n",
              "      <td>\"A testament to the power of storytelling, lea...</td>\n",
              "      <td>\"An uplifting film that leaves a profound impa...</td>\n",
              "      <td>False</td>\n",
              "    </tr>\n",
              "  </tbody>\n",
              "</table>\n",
              "</div>"
            ],
            "text/plain": [
              "   Unnamed: 0                        Title  Runtime  Stars  Year  \\\n",
              "0           0          \"Love in the Inbox\"      126      1  2020   \n",
              "1           1    \"Coffee Shop Serendipity\"      131      0  2020   \n",
              "2           2   \"The Wedding Date Dilemma\"      132      4  2000   \n",
              "3           3  \"Heartstrings and Highways\"      132      1  2015   \n",
              "4           4          \"Falling for Cupid\"      119      1  2015   \n",
              "\n",
              "         Budget      Promo  Season Rating            Genre  \\\n",
              "0  6.679387e+07  73.543754  Winter     PG  Romantic Comedy   \n",
              "1  4.667863e+01  33.572003    Fall     PG  Romantic Comedy   \n",
              "2  3.639134e+01  54.561523  Summer     PG  Romantic Comedy   \n",
              "3  9.324732e+01  59.714535  Winter   PG13  Romantic Comedy   \n",
              "4  9.213021e+01  67.643810    Fall   PG13  Romantic Comedy   \n",
              "\n",
              "                                                  R1  \\\n",
              "0  \"An unconvincing portrayal of suspense that fa...   \n",
              "1  \"A movie that feels disjointed and fails to co...   \n",
              "2  \"An underwhelming cinematic effort with unconv...   \n",
              "3  \"A film that fails to resonate due to its lack...   \n",
              "4  \"A movie that struggles to evoke any genuine e...   \n",
              "\n",
              "                                                  R2  \\\n",
              "0  \"An uninspired plotline that lacks coherence a...   \n",
              "1  \"An attempt at humor that lacks cleverness and...   \n",
              "2  \"An emotionally resonant movie that connects u...   \n",
              "3  \"A beautifully crafted narrative that unfolds ...   \n",
              "4  \"A testament to the power of storytelling, lea...   \n",
              "\n",
              "                                                  R3  Success  \n",
              "0  \"A visually captivating masterpiece that mesme...    False  \n",
              "1  \"A timeless classic that continues to enchant ...    False  \n",
              "2  \"A cinematic triumph that surpasses boundaries...    False  \n",
              "3  \"An uninspired portrayal of drama that feels s...    False  \n",
              "4  \"An uplifting film that leaves a profound impa...    False  "
            ]
          },
          "execution_count": 389,
          "metadata": {},
          "output_type": "execute_result"
        }
      ],
      "source": [
        "import pandas as pd\n",
        "\n",
        "data = pd.read_csv('CMSC320FinalProjectData.csv')\n",
        "\n",
        "data.head()"
      ]
    },
    {
      "attachments": {},
      "cell_type": "markdown",
      "metadata": {
        "id": "yH21qcym6a03"
      },
      "source": [
        "# Data Cleaning\n",
        "\n",
        "List the three biggest data errors below, with a summary of how you fixed them and why you choose that method:\n",
        "\n",
        "\n",
        "* The first problem I saw was that in the 'Stars' column looked to have a maximum of 5 stars, but some movies had star rating of 100. At first I thought of setting the values to the normal max of 5, but saw that the movies weren't considered success. Instead, I fixed it by replacing the values with the median value of the 'Stars' column (since it is basically a catigorical column). This will allow me to maintain the integrity of the data without skewing it towards an average or removing significant portions of data.\n",
        "\n",
        "* The 'Budget' column has values ranging from 21 to over 160 million. I suspect that the high values could be errors. I know movies have high bugdes but I believe most of the data coundted the bidget in the millions instead of dollars. While looking up the different movies in the list to find there actual price to see if my guess was correct, I found out that the movies don't actually exist. To fix the wide budget range, I replaced the extremly high budgets with a mean value for the budget made in that year. I made sure to exclude the values about 1,000 when calculate the mean. This would allow for more accurate year-on-year comparisons and trend analysis.\n",
        "\n",
        "* The 'Runtime' column has some movies with a runtime of 0, which is not possible for a movie. These zero values are likely placeholders for missing or unknown data. I fixed this by replacing the zero values in the 'Runtime' column mean runtime for the film 'Genre'. This would provide a reasonable estimate without introducing extreme values."
      ]
    },
    {
      "cell_type": "code",
      "execution_count": 390,
      "metadata": {
        "id": "bNLnmnpV4DUY"
      },
      "outputs": [
        {
          "name": "stderr",
          "output_type": "stream",
          "text": [
            "/var/folders/w2/gjxl1sr96k56x0nj2_42f53m0000gp/T/ipykernel_857/2319194741.py:14: FutureWarning: Setting an item of incompatible dtype is deprecated and will raise in a future error of pandas. Value '129.22596153846155' has dtype incompatible with int64, please explicitly cast to a compatible dtype first.\n",
            "  data.loc[(data['Genre'] == genre) & (data['Runtime'] == 0), 'Runtime'] = mean_runtime\n"
          ]
        },
        {
          "data": {
            "text/html": [
              "<div>\n",
              "<style scoped>\n",
              "    .dataframe tbody tr th:only-of-type {\n",
              "        vertical-align: middle;\n",
              "    }\n",
              "\n",
              "    .dataframe tbody tr th {\n",
              "        vertical-align: top;\n",
              "    }\n",
              "\n",
              "    .dataframe thead th {\n",
              "        text-align: right;\n",
              "    }\n",
              "</style>\n",
              "<table border=\"1\" class=\"dataframe\">\n",
              "  <thead>\n",
              "    <tr style=\"text-align: right;\">\n",
              "      <th></th>\n",
              "      <th>Unnamed: 0</th>\n",
              "      <th>Title</th>\n",
              "      <th>Runtime</th>\n",
              "      <th>Stars</th>\n",
              "      <th>Year</th>\n",
              "      <th>Budget</th>\n",
              "      <th>Promo</th>\n",
              "      <th>Season</th>\n",
              "      <th>Rating</th>\n",
              "      <th>Genre</th>\n",
              "      <th>R1</th>\n",
              "      <th>R2</th>\n",
              "      <th>R3</th>\n",
              "      <th>Success</th>\n",
              "    </tr>\n",
              "  </thead>\n",
              "  <tbody>\n",
              "    <tr>\n",
              "      <th>0</th>\n",
              "      <td>0</td>\n",
              "      <td>\"Love in the Inbox\"</td>\n",
              "      <td>126.0</td>\n",
              "      <td>1</td>\n",
              "      <td>2020</td>\n",
              "      <td>89.193378</td>\n",
              "      <td>73.543754</td>\n",
              "      <td>Winter</td>\n",
              "      <td>PG</td>\n",
              "      <td>Romantic Comedy</td>\n",
              "      <td>\"An unconvincing portrayal of suspense that fa...</td>\n",
              "      <td>\"An uninspired plotline that lacks coherence a...</td>\n",
              "      <td>\"A visually captivating masterpiece that mesme...</td>\n",
              "      <td>False</td>\n",
              "    </tr>\n",
              "    <tr>\n",
              "      <th>1</th>\n",
              "      <td>1</td>\n",
              "      <td>\"Coffee Shop Serendipity\"</td>\n",
              "      <td>131.0</td>\n",
              "      <td>0</td>\n",
              "      <td>2020</td>\n",
              "      <td>46.678633</td>\n",
              "      <td>33.572003</td>\n",
              "      <td>Fall</td>\n",
              "      <td>PG</td>\n",
              "      <td>Romantic Comedy</td>\n",
              "      <td>\"A movie that feels disjointed and fails to co...</td>\n",
              "      <td>\"An attempt at humor that lacks cleverness and...</td>\n",
              "      <td>\"A timeless classic that continues to enchant ...</td>\n",
              "      <td>False</td>\n",
              "    </tr>\n",
              "    <tr>\n",
              "      <th>2</th>\n",
              "      <td>2</td>\n",
              "      <td>\"The Wedding Date Dilemma\"</td>\n",
              "      <td>132.0</td>\n",
              "      <td>4</td>\n",
              "      <td>2000</td>\n",
              "      <td>36.391338</td>\n",
              "      <td>54.561523</td>\n",
              "      <td>Summer</td>\n",
              "      <td>PG</td>\n",
              "      <td>Romantic Comedy</td>\n",
              "      <td>\"An underwhelming cinematic effort with unconv...</td>\n",
              "      <td>\"An emotionally resonant movie that connects u...</td>\n",
              "      <td>\"A cinematic triumph that surpasses boundaries...</td>\n",
              "      <td>False</td>\n",
              "    </tr>\n",
              "    <tr>\n",
              "      <th>3</th>\n",
              "      <td>3</td>\n",
              "      <td>\"Heartstrings and Highways\"</td>\n",
              "      <td>132.0</td>\n",
              "      <td>1</td>\n",
              "      <td>2015</td>\n",
              "      <td>93.247317</td>\n",
              "      <td>59.714535</td>\n",
              "      <td>Winter</td>\n",
              "      <td>PG13</td>\n",
              "      <td>Romantic Comedy</td>\n",
              "      <td>\"A film that fails to resonate due to its lack...</td>\n",
              "      <td>\"A beautifully crafted narrative that unfolds ...</td>\n",
              "      <td>\"An uninspired portrayal of drama that feels s...</td>\n",
              "      <td>False</td>\n",
              "    </tr>\n",
              "    <tr>\n",
              "      <th>4</th>\n",
              "      <td>4</td>\n",
              "      <td>\"Falling for Cupid\"</td>\n",
              "      <td>119.0</td>\n",
              "      <td>1</td>\n",
              "      <td>2015</td>\n",
              "      <td>92.130207</td>\n",
              "      <td>67.643810</td>\n",
              "      <td>Fall</td>\n",
              "      <td>PG13</td>\n",
              "      <td>Romantic Comedy</td>\n",
              "      <td>\"A movie that struggles to evoke any genuine e...</td>\n",
              "      <td>\"A testament to the power of storytelling, lea...</td>\n",
              "      <td>\"An uplifting film that leaves a profound impa...</td>\n",
              "      <td>False</td>\n",
              "    </tr>\n",
              "  </tbody>\n",
              "</table>\n",
              "</div>"
            ],
            "text/plain": [
              "   Unnamed: 0                        Title  Runtime  Stars  Year     Budget  \\\n",
              "0           0          \"Love in the Inbox\"    126.0      1  2020  89.193378   \n",
              "1           1    \"Coffee Shop Serendipity\"    131.0      0  2020  46.678633   \n",
              "2           2   \"The Wedding Date Dilemma\"    132.0      4  2000  36.391338   \n",
              "3           3  \"Heartstrings and Highways\"    132.0      1  2015  93.247317   \n",
              "4           4          \"Falling for Cupid\"    119.0      1  2015  92.130207   \n",
              "\n",
              "       Promo  Season Rating            Genre  \\\n",
              "0  73.543754  Winter     PG  Romantic Comedy   \n",
              "1  33.572003    Fall     PG  Romantic Comedy   \n",
              "2  54.561523  Summer     PG  Romantic Comedy   \n",
              "3  59.714535  Winter   PG13  Romantic Comedy   \n",
              "4  67.643810    Fall   PG13  Romantic Comedy   \n",
              "\n",
              "                                                  R1  \\\n",
              "0  \"An unconvincing portrayal of suspense that fa...   \n",
              "1  \"A movie that feels disjointed and fails to co...   \n",
              "2  \"An underwhelming cinematic effort with unconv...   \n",
              "3  \"A film that fails to resonate due to its lack...   \n",
              "4  \"A movie that struggles to evoke any genuine e...   \n",
              "\n",
              "                                                  R2  \\\n",
              "0  \"An uninspired plotline that lacks coherence a...   \n",
              "1  \"An attempt at humor that lacks cleverness and...   \n",
              "2  \"An emotionally resonant movie that connects u...   \n",
              "3  \"A beautifully crafted narrative that unfolds ...   \n",
              "4  \"A testament to the power of storytelling, lea...   \n",
              "\n",
              "                                                  R3  Success  \n",
              "0  \"A visually captivating masterpiece that mesme...    False  \n",
              "1  \"A timeless classic that continues to enchant ...    False  \n",
              "2  \"A cinematic triumph that surpasses boundaries...    False  \n",
              "3  \"An uninspired portrayal of drama that feels s...    False  \n",
              "4  \"An uplifting film that leaves a profound impa...    False  "
            ]
          },
          "execution_count": 390,
          "metadata": {},
          "output_type": "execute_result"
        }
      ],
      "source": [
        "# first fix\n",
        "median_stars = data['Stars'].median()\n",
        "data.loc[data['Stars'] > 5, 'Stars'] = median_stars\n",
        "data.head()\n",
        "\n",
        "# second fix\n",
        "filtered_budget_data = data[data['Budget'] <= 1000]\n",
        "mean_budget_per_year = filtered_budget_data.groupby('Year')['Budget'].mean()\n",
        "data.loc[data['Budget'] > 1000, 'Budget'] = data[data['Budget'] > 1000]['Year'].map(mean_budget_per_year)\n",
        "\n",
        "# third fix\n",
        "mean_runtime_per_genre = data[data['Runtime'] > 0].groupby('Genre')['Runtime'].mean()\n",
        "for genre, mean_runtime in mean_runtime_per_genre.items():\n",
        "    data.loc[(data['Genre'] == genre) & (data['Runtime'] == 0), 'Runtime'] = mean_runtime\n",
        "data.head()\n"
      ]
    },
    {
      "attachments": {},
      "cell_type": "markdown",
      "metadata": {
        "id": "dHokHRPI66lw"
      },
      "source": [
        "# Data Exploration\n",
        "\n",
        "\n",
        "\n"
      ]
    },
    {
      "attachments": {},
      "cell_type": "markdown",
      "metadata": {
        "id": "OHbNovM57Lj7"
      },
      "source": [
        "Does Season have a stastically significant impact on a movie's success?\n",
        "\n",
        "Yes, since the p-value is less than 0.05 (the accepted value of acceptance) mean that seasons have a stastically significant impact on a movie's success\n",
        "SInce the values is so low, there is a very smal probablility that the data is by coincident.\n",
        "\n",
        "**p-value:**  0.005716268505111858\n",
        "\n"
      ]
    },
    {
      "cell_type": "code",
      "execution_count": 391,
      "metadata": {
        "id": "XGZlyOBW65-B"
      },
      "outputs": [
        {
          "name": "stdout",
          "output_type": "stream",
          "text": [
            "P-value: 0.005716268505111858\n"
          ]
        }
      ],
      "source": [
        "from scipy.stats import chi2_contingency\n",
        "\n",
        "contingency_table = pd.crosstab(data['Season'], data['Success'])\n",
        "\n",
        "chi2, p_value, dof, expected = chi2_contingency(contingency_table)\n",
        "\n",
        "print(\"P-value:\", p_value)"
      ]
    },
    {
      "attachments": {},
      "cell_type": "markdown",
      "metadata": {
        "id": "OM6_URSkBXDz"
      },
      "source": [
        "Do seasons have a statistically significant difference in their distribution of content ratings?\n",
        "\n",
        "There is no statistically significant difference in the distribution of content ratings across different seasons.\n",
        "\n",
        "**p-value:**  0.21507814500508263"
      ]
    },
    {
      "cell_type": "code",
      "execution_count": 392,
      "metadata": {
        "id": "GtSbRZxOBeXC"
      },
      "outputs": [
        {
          "name": "stdout",
          "output_type": "stream",
          "text": [
            "P-value: 0.21507814500508263\n"
          ]
        }
      ],
      "source": [
        "contingency_table_rating = pd.crosstab(data['Season'], data['Rating'])\n",
        "\n",
        "chi2_rating, p_value_rating, dof_rating, expected_rating = chi2_contingency(contingency_table_rating)\n",
        "\n",
        "print(\"P-value:\", p_value_rating)"
      ]
    },
    {
      "attachments": {},
      "cell_type": "markdown",
      "metadata": {
        "id": "rbhSWWp37M2Z"
      },
      "source": [
        "Who is the harshest critic (highest precent of negative reviews)?\n",
        "\n",
        "**Critic:**  R1"
      ]
    },
    {
      "cell_type": "code",
      "execution_count": 393,
      "metadata": {
        "id": "92CUkllO7Slx"
      },
      "outputs": [
        {
          "name": "stdout",
          "output_type": "stream",
          "text": [
            "Harshest Critic: R1\n",
            "Percentage of Negative Reviews: 72.77777777777777\n"
          ]
        }
      ],
      "source": [
        "def is_negative(review):\n",
        "    negative_words = [\"fails\", \"unconvincing\", \"struggles\", \"disjointed\", \n",
        "                         \"lacks\", \"uninspired\", \"misses\", \"lackluster\", \"underwhelming\",\n",
        "                         \"uninteresting\", \"disconnected\", \"unsatisfied\", \"forgettable\",\n",
        "                         \"disappointing\", \"confused\", \"underdeveloped\", \"unengaging\", \n",
        "                         \"inconsistent\", \"poorly\", \"confusing\", \"unremarkable\", \"poor\",\n",
        "                         \"unsuccessful\", \"aimless\", \"rushed\", \"sluggish\", \"flat\", \"incoherent\",\n",
        "                         \"forced\", \"infuriatingly\", \"hollow\", \"superficial\", \"surface-level\",\n",
        "                         \"squanders\", \"shallow\", \"uneventful\", \"incomplete\", \"frustratingly\",\n",
        "                         \"embarrassingly\", \"dreadfully\", \"unoriginal\", \"mess\", \"jumbled\",\n",
        "                         \"convoluted\", \"predictable\", \"stumbling\", \"overuse\"]\n",
        "    return int(any(keyword in review.lower() for keyword in negative_words))\n",
        "\n",
        "critic_negative_counts = {\n",
        "    'R1': data['R1'].apply(is_negative).sum(),\n",
        "    'R2': data['R2'].apply(is_negative).sum(),\n",
        "    'R3': data['R3'].apply(is_negative).sum()\n",
        "}\n",
        "\n",
        "percentages = {critic: (count / len(data)) * 100 for critic, count in critic_negative_counts.items()}\n",
        "\n",
        "harshest_critic = max(percentages, key=percentages.get)\n",
        "\n",
        "print(\"Harshest Critic:\", harshest_critic)\n",
        "print(\"Percentage of Negative Reviews:\", percentages[harshest_critic])"
      ]
    },
    {
      "attachments": {},
      "cell_type": "markdown",
      "metadata": {
        "id": "3H5DlS_E7S1u"
      },
      "source": [
        "What is the covariance between promotional budget and the filming budget?\n",
        "\n",
        "**Cov:** \n",
        "\n",
        "There is a positive covariance maning that as the promotional budget the filming budget will increase as well."
      ]
    },
    {
      "cell_type": "code",
      "execution_count": 394,
      "metadata": {
        "id": "9ZCJ4P-l7lrE"
      },
      "outputs": [
        {
          "name": "stdout",
          "output_type": "stream",
          "text": [
            "Covariance:  1847.1214438102459\n"
          ]
        }
      ],
      "source": [
        "covariance = data[['Promo', 'Budget']].cov().iloc[0, 1]\n",
        "\n",
        "print(\"Covariance: \", covariance)"
      ]
    },
    {
      "attachments": {},
      "cell_type": "markdown",
      "metadata": {
        "id": "eiTujTFw7orS"
      },
      "source": [
        "# Data Visualization"
      ]
    },
    {
      "attachments": {},
      "cell_type": "markdown",
      "metadata": {
        "id": "e907N-i-7r5N"
      },
      "source": [
        "Create a chart that compares the distribution of the budget for each different number of stars. (It does not need to be particularly appealing."
      ]
    },
    {
      "cell_type": "code",
      "execution_count": 395,
      "metadata": {
        "id": "DZubydmS8eME"
      },
      "outputs": [
        {
          "data": {
            "image/png": "[encoded data removed]",
            "text/plain": [
              "<Figure size 1200x600 with 1 Axes>"
            ]
          },
          "metadata": {},
          "output_type": "display_data"
        }
      ],
      "source": [
        "import matplotlib.pyplot as plt\n",
        "\n",
        "grouped_data = data.groupby('Stars')['Budget'].apply(list)\n",
        "\n",
        "plt.figure(figsize=(12, 6))\n",
        "plt.boxplot([grouped_data[star] for star in grouped_data.index], labels=grouped_data.index)\n",
        "plt.title('Distribution of Budget by Star Rating')\n",
        "plt.xlabel('Star Rating')\n",
        "plt.ylabel('Budget')\n",
        "plt.grid(True)\n",
        "plt.show()"
      ]
    },
    {
      "attachments": {},
      "cell_type": "markdown",
      "metadata": {
        "id": "tUut9r0u8eYu"
      },
      "source": [
        "Create a graph showing the average movie budget over time."
      ]
    },
    {
      "cell_type": "code",
      "execution_count": 396,
      "metadata": {
        "id": "ZG9Fc95v8qRf"
      },
      "outputs": [
        {
          "data": {
            "image/png": "[encoded data removed]",
            "text/plain": [
              "<Figure size 1000x600 with 1 Axes>"
            ]
          },
          "metadata": {},
          "output_type": "display_data"
        }
      ],
      "source": [
        "plt.figure(figsize=(10, 6))\n",
        "data.groupby('Year')['Budget'].mean().plot(kind='line', color='red', marker='o')\n",
        "plt.title('Average Movie Budget Over Time')\n",
        "plt.xlabel('Year')\n",
        "plt.ylabel('Average Budget')\n",
        "plt.grid(True)\n",
        "plt.show()"
      ]
    },
    {
      "attachments": {},
      "cell_type": "markdown",
      "metadata": {
        "id": "_UqUj1uy80Re"
      },
      "source": [
        "# Feature Engineering\n",
        "\n",
        "List any features you choose to create (if you are creating many features based on one column, you do not need to list them separately.) You are not required to create any features if you do not wish to. You may create any number of additional features.\n",
        "\n",
        "\n",
        "* negative/positive review of a movie for each of the reviewers\n",
        "* short/medium/long movie based on runtime\n",
        "* I will also change categorical values to ints"
      ]
    },
    {
      "cell_type": "code",
      "execution_count": 397,
      "metadata": {
        "id": "zX9EeUKA9c5n"
      },
      "outputs": [
        {
          "data": {
            "text/html": [
              "<div>\n",
              "<style scoped>\n",
              "    .dataframe tbody tr th:only-of-type {\n",
              "        vertical-align: middle;\n",
              "    }\n",
              "\n",
              "    .dataframe tbody tr th {\n",
              "        vertical-align: top;\n",
              "    }\n",
              "\n",
              "    .dataframe thead th {\n",
              "        text-align: right;\n",
              "    }\n",
              "</style>\n",
              "<table border=\"1\" class=\"dataframe\">\n",
              "  <thead>\n",
              "    <tr style=\"text-align: right;\">\n",
              "      <th></th>\n",
              "      <th>Unnamed: 0</th>\n",
              "      <th>Title</th>\n",
              "      <th>Runtime</th>\n",
              "      <th>Stars</th>\n",
              "      <th>Year</th>\n",
              "      <th>Budget</th>\n",
              "      <th>Promo</th>\n",
              "      <th>Season</th>\n",
              "      <th>Rating</th>\n",
              "      <th>Genre</th>\n",
              "      <th>...</th>\n",
              "      <th>R2</th>\n",
              "      <th>R3</th>\n",
              "      <th>Success</th>\n",
              "      <th>R1_Positive</th>\n",
              "      <th>R2_Positive</th>\n",
              "      <th>R3_Positive</th>\n",
              "      <th>Movie_Length</th>\n",
              "      <th>Genre_Encoded</th>\n",
              "      <th>Rating_Encoded</th>\n",
              "      <th>Season_Encoded</th>\n",
              "    </tr>\n",
              "  </thead>\n",
              "  <tbody>\n",
              "    <tr>\n",
              "      <th>0</th>\n",
              "      <td>0</td>\n",
              "      <td>\"Love in the Inbox\"</td>\n",
              "      <td>126.0</td>\n",
              "      <td>1</td>\n",
              "      <td>2020</td>\n",
              "      <td>89.193378</td>\n",
              "      <td>73.543754</td>\n",
              "      <td>Winter</td>\n",
              "      <td>PG</td>\n",
              "      <td>Romantic Comedy</td>\n",
              "      <td>...</td>\n",
              "      <td>\"An uninspired plotline that lacks coherence a...</td>\n",
              "      <td>\"A visually captivating masterpiece that mesme...</td>\n",
              "      <td>False</td>\n",
              "      <td>-2</td>\n",
              "      <td>-2</td>\n",
              "      <td>-1</td>\n",
              "      <td>3</td>\n",
              "      <td>3</td>\n",
              "      <td>0</td>\n",
              "      <td>3</td>\n",
              "    </tr>\n",
              "    <tr>\n",
              "      <th>1</th>\n",
              "      <td>1</td>\n",
              "      <td>\"Coffee Shop Serendipity\"</td>\n",
              "      <td>131.0</td>\n",
              "      <td>0</td>\n",
              "      <td>2020</td>\n",
              "      <td>46.678633</td>\n",
              "      <td>33.572003</td>\n",
              "      <td>Fall</td>\n",
              "      <td>PG</td>\n",
              "      <td>Romantic Comedy</td>\n",
              "      <td>...</td>\n",
              "      <td>\"An attempt at humor that lacks cleverness and...</td>\n",
              "      <td>\"A timeless classic that continues to enchant ...</td>\n",
              "      <td>False</td>\n",
              "      <td>-2</td>\n",
              "      <td>-2</td>\n",
              "      <td>-1</td>\n",
              "      <td>3</td>\n",
              "      <td>3</td>\n",
              "      <td>0</td>\n",
              "      <td>0</td>\n",
              "    </tr>\n",
              "    <tr>\n",
              "      <th>2</th>\n",
              "      <td>2</td>\n",
              "      <td>\"The Wedding Date Dilemma\"</td>\n",
              "      <td>132.0</td>\n",
              "      <td>4</td>\n",
              "      <td>2000</td>\n",
              "      <td>36.391338</td>\n",
              "      <td>54.561523</td>\n",
              "      <td>Summer</td>\n",
              "      <td>PG</td>\n",
              "      <td>Romantic Comedy</td>\n",
              "      <td>...</td>\n",
              "      <td>\"An emotionally resonant movie that connects u...</td>\n",
              "      <td>\"A cinematic triumph that surpasses boundaries...</td>\n",
              "      <td>False</td>\n",
              "      <td>-2</td>\n",
              "      <td>-1</td>\n",
              "      <td>-1</td>\n",
              "      <td>3</td>\n",
              "      <td>3</td>\n",
              "      <td>0</td>\n",
              "      <td>2</td>\n",
              "    </tr>\n",
              "    <tr>\n",
              "      <th>3</th>\n",
              "      <td>3</td>\n",
              "      <td>\"Heartstrings and Highways\"</td>\n",
              "      <td>132.0</td>\n",
              "      <td>1</td>\n",
              "      <td>2015</td>\n",
              "      <td>93.247317</td>\n",
              "      <td>59.714535</td>\n",
              "      <td>Winter</td>\n",
              "      <td>PG13</td>\n",
              "      <td>Romantic Comedy</td>\n",
              "      <td>...</td>\n",
              "      <td>\"A beautifully crafted narrative that unfolds ...</td>\n",
              "      <td>\"An uninspired portrayal of drama that feels s...</td>\n",
              "      <td>False</td>\n",
              "      <td>-2</td>\n",
              "      <td>-1</td>\n",
              "      <td>-2</td>\n",
              "      <td>3</td>\n",
              "      <td>3</td>\n",
              "      <td>1</td>\n",
              "      <td>3</td>\n",
              "    </tr>\n",
              "    <tr>\n",
              "      <th>4</th>\n",
              "      <td>4</td>\n",
              "      <td>\"Falling for Cupid\"</td>\n",
              "      <td>119.0</td>\n",
              "      <td>1</td>\n",
              "      <td>2015</td>\n",
              "      <td>92.130207</td>\n",
              "      <td>67.643810</td>\n",
              "      <td>Fall</td>\n",
              "      <td>PG13</td>\n",
              "      <td>Romantic Comedy</td>\n",
              "      <td>...</td>\n",
              "      <td>\"A testament to the power of storytelling, lea...</td>\n",
              "      <td>\"An uplifting film that leaves a profound impa...</td>\n",
              "      <td>False</td>\n",
              "      <td>-2</td>\n",
              "      <td>-1</td>\n",
              "      <td>-1</td>\n",
              "      <td>2</td>\n",
              "      <td>3</td>\n",
              "      <td>1</td>\n",
              "      <td>0</td>\n",
              "    </tr>\n",
              "  </tbody>\n",
              "</table>\n",
              "<p>5 rows × 21 columns</p>\n",
              "</div>"
            ],
            "text/plain": [
              "   Unnamed: 0                        Title  Runtime  Stars  Year     Budget  \\\n",
              "0           0          \"Love in the Inbox\"    126.0      1  2020  89.193378   \n",
              "1           1    \"Coffee Shop Serendipity\"    131.0      0  2020  46.678633   \n",
              "2           2   \"The Wedding Date Dilemma\"    132.0      4  2000  36.391338   \n",
              "3           3  \"Heartstrings and Highways\"    132.0      1  2015  93.247317   \n",
              "4           4          \"Falling for Cupid\"    119.0      1  2015  92.130207   \n",
              "\n",
              "       Promo  Season Rating            Genre  ...  \\\n",
              "0  73.543754  Winter     PG  Romantic Comedy  ...   \n",
              "1  33.572003    Fall     PG  Romantic Comedy  ...   \n",
              "2  54.561523  Summer     PG  Romantic Comedy  ...   \n",
              "3  59.714535  Winter   PG13  Romantic Comedy  ...   \n",
              "4  67.643810    Fall   PG13  Romantic Comedy  ...   \n",
              "\n",
              "                                                  R2  \\\n",
              "0  \"An uninspired plotline that lacks coherence a...   \n",
              "1  \"An attempt at humor that lacks cleverness and...   \n",
              "2  \"An emotionally resonant movie that connects u...   \n",
              "3  \"A beautifully crafted narrative that unfolds ...   \n",
              "4  \"A testament to the power of storytelling, lea...   \n",
              "\n",
              "                                                  R3 Success  R1_Positive  \\\n",
              "0  \"A visually captivating masterpiece that mesme...   False           -2   \n",
              "1  \"A timeless classic that continues to enchant ...   False           -2   \n",
              "2  \"A cinematic triumph that surpasses boundaries...   False           -2   \n",
              "3  \"An uninspired portrayal of drama that feels s...   False           -2   \n",
              "4  \"An uplifting film that leaves a profound impa...   False           -2   \n",
              "\n",
              "   R2_Positive  R3_Positive  Movie_Length Genre_Encoded  Rating_Encoded  \\\n",
              "0           -2           -1             3             3               0   \n",
              "1           -2           -1             3             3               0   \n",
              "2           -1           -1             3             3               0   \n",
              "3           -1           -2             3             3               1   \n",
              "4           -1           -1             2             3               1   \n",
              "\n",
              "   Season_Encoded  \n",
              "0               3  \n",
              "1               0  \n",
              "2               2  \n",
              "3               3  \n",
              "4               0  \n",
              "\n",
              "[5 rows x 21 columns]"
            ]
          },
          "execution_count": 397,
          "metadata": {},
          "output_type": "execute_result"
        }
      ],
      "source": [
        "#bullet 1\n",
        "data['R1_Positive'] = ~data['R1'].apply(is_negative)\n",
        "data['R2_Positive'] = ~data['R2'].apply(is_negative)\n",
        "data['R3_Positive'] = ~data['R3'].apply(is_negative)\n",
        "\n",
        "# bullet 2\n",
        "bins = [0, 90, 120, 180, float('inf')]\n",
        "labels = [1, 2, 3, 4]\n",
        "\n",
        "data['Movie_Length'] = pd.cut(data['Runtime'], bins=bins, labels=labels)\n",
        "\n",
        "#bullet 3\n",
        "from sklearn.preprocessing import LabelEncoder\n",
        "\n",
        "label_encoder = LabelEncoder()\n",
        "\n",
        "data['Genre_Encoded'] = label_encoder.fit_transform(data['Genre'])\n",
        "\n",
        "data['Rating_Encoded'] = label_encoder.fit_transform(data['Rating'])\n",
        "\n",
        "data['Season_Encoded'] = label_encoder.fit_transform(data['Season'])\n",
        "\n",
        "data.head()"
      ]
    },
    {
      "attachments": {},
      "cell_type": "markdown",
      "metadata": {
        "id": "bj3Rdh229dLW"
      },
      "source": [
        "# Modeling\n",
        "\n",
        "Create a model of your choice.\n",
        "\n",
        "**Model type choosen:**  Support Vector Machine"
      ]
    },
    {
      "cell_type": "code",
      "execution_count": 398,
      "metadata": {},
      "outputs": [
        {
          "name": "stdout",
          "output_type": "stream",
          "text": [
            "Accuracy: 0.7901234567901234\n",
            "Classification Report:\n",
            "               precision    recall  f1-score   support\n",
            "\n",
            "       False       0.91      0.82      0.86       131\n",
            "        True       0.47      0.68      0.55        31\n",
            "\n",
            "    accuracy                           0.79       162\n",
            "   macro avg       0.69      0.75      0.71       162\n",
            "weighted avg       0.83      0.79      0.80       162\n",
            "\n"
          ]
        }
      ],
      "source": [
        "from sklearn.model_selection import train_test_split\n",
        "from sklearn.svm import SVC\n",
        "from sklearn.metrics import accuracy_score, classification_report\n",
        "from sklearn.preprocessing import StandardScaler\n",
        "\n",
        "features = ['Runtime', 'Stars', 'Year', 'Budget', 'Promo', 'R1_Positive', 'R2_Positive', 'R3_Positive', \n",
        "            'Movie_Length', 'Genre_Encoded', 'Season_Encoded']\n",
        "#######got rid of 'Rating_Encoded' to lower false\n",
        "X = data[features]\n",
        "y = data['Success']\n",
        "\n",
        "X_train, X_test, y_train, y_test = train_test_split(X, y, test_size=0.3, random_state=42)\n",
        "\n",
        "scaler = StandardScaler()\n",
        "X_train_scaled = scaler.fit_transform(X_train)\n",
        "X_test_scaled = scaler.transform(X_test)\n",
        "\n",
        "svm_classifier = SVC(kernel='linear')\n",
        "\n",
        "svm_classifier.fit(X_train_scaled, y_train)\n",
        "\n",
        "y_pred = svm_classifier.predict(X_test_scaled)\n",
        "\n",
        "accuracy = accuracy_score(y_test, y_pred)\n",
        "report = classification_report(y_test, y_pred)\n",
        "\n",
        "print(\"Accuracy:\", accuracy)\n",
        "print(\"Classification Report:\\n\", report)"
      ]
    },
    {
      "attachments": {},
      "cell_type": "markdown",
      "metadata": {
        "id": "GY8VzL3J9mUi"
      },
      "source": [
        "# Testing"
      ]
    },
    {
      "attachments": {},
      "cell_type": "markdown",
      "metadata": {
        "id": "ZeLtWCur9p7x"
      },
      "source": [
        "Shuffle your data and break it into a 10% test set and 90% training set. Show your model's accuracy on the test set. In order to get full credit, the model's accuracy must be higher than 50%.\n",
        "\n",
        "**Model accuracy:**   0.9444444444444444"
      ]
    },
    {
      "cell_type": "code",
      "execution_count": 399,
      "metadata": {
        "id": "D4TIzTVT9o59"
      },
      "outputs": [
        {
          "name": "stdout",
          "output_type": "stream",
          "text": [
            "Model Accuracy on Test Set: 0.9444444444444444\n"
          ]
        }
      ],
      "source": [
        "data = data.sample(frac=1).reset_index(drop=True)\n",
        "\n",
        "X = data[features]\n",
        "y = data['Success']\n",
        "\n",
        "X_train, X_test, y_train, y_test = train_test_split(X, y, test_size=0.1, random_state=42)\n",
        "\n",
        "scaler = StandardScaler()\n",
        "X_train_scaled = scaler.fit_transform(X_train)\n",
        "X_test_scaled = scaler.transform(X_test)\n",
        "\n",
        "svm_classifier = SVC(kernel='linear')\n",
        "\n",
        "svm_classifier.fit(X_train_scaled, y_train)\n",
        "\n",
        "y_pred = svm_classifier.predict(X_test_scaled)\n",
        "\n",
        "accuracy = accuracy_score(y_test, y_pred)\n",
        "\n",
        "print(\"Model Accuracy on Test Set:\", accuracy)"
      ]
    },
    {
      "attachments": {},
      "cell_type": "markdown",
      "metadata": {
        "id": "qHtRp8Ip9qAW"
      },
      "source": [
        "Show the confusion matrix for your model. To get full credit, the percent of false negatives and the percent of false positives must be under 30%. (Divide false negatives by total, and divide false positives by total, and make sure both numbers are under 30%).\n",
        "\n",
        "\n",
        "**False negative rate:**   0.2222222222222222\n",
        "\n",
        "**False positive rate:**   0.022222222222222223"
      ]
    },
    {
      "cell_type": "code",
      "execution_count": 400,
      "metadata": {
        "id": "8-sgv2Ix_Adj"
      },
      "outputs": [
        {
          "name": "stdout",
          "output_type": "stream",
          "text": [
            "Confusion Matrix:\n",
            " [[44  1]\n",
            " [ 2  7]]\n",
            "False Negative Rate: 0.2222222222222222\n",
            "False Positive Rate: 0.022222222222222223\n"
          ]
        }
      ],
      "source": [
        "from sklearn.metrics import confusion_matrix\n",
        "\n",
        "cm = confusion_matrix(y_test, y_pred)\n",
        "tn, fp, fn, tp = cm.ravel()\n",
        "\n",
        "false_negative_rate = fn / (fn + tp)\n",
        "false_positive_rate = fp / (fp + tn)\n",
        "\n",
        "print(\"Confusion Matrix:\\n\", cm)\n",
        "print(\"False Negative Rate:\", false_negative_rate)\n",
        "print(\"False Positive Rate:\", false_positive_rate)"
      ]
    },
    {
      "attachments": {},
      "cell_type": "markdown",
      "metadata": {
        "id": "VdxaHXn5_Jt_"
      },
      "source": [
        "What was the most important feature for your model? Don't guess, either look up how to check or do your own tests.\n",
        "\n",
        "**Most important feature:**    R1_Positive\n"
      ]
    },
    {
      "cell_type": "code",
      "execution_count": 401,
      "metadata": {
        "id": "fTgKIBvV_swo"
      },
      "outputs": [
        {
          "name": "stdout",
          "output_type": "stream",
          "text": [
            "Most Important Feature: R1_Positive\n",
            "Coefficient Value: 1.0093140153767806\n"
          ]
        }
      ],
      "source": [
        "\n",
        "svm_model = SVC(kernel='linear')\n",
        "svm_model.fit(X_train_scaled, y_train)\n",
        "\n",
        "feature_importance = dict(zip(features, svm_model.coef_[0]))\n",
        "\n",
        "most_important_feature = max(feature_importance, key=lambda k: abs(feature_importance[k]))\n",
        "\n",
        "print(\"Most Important Feature:\", most_important_feature)\n",
        "print(\"Coefficient Value:\", feature_importance[most_important_feature])"
      ]
    }
  ],
  "metadata": {
    "colab": {
      "provenance": []
    },
    "kernelspec": {
      "display_name": "Python 3",
      "name": "python3"
    },
    "language_info": {
      "codemirror_mode": {
        "name": "ipython",
        "version": 3
      },
      "file_extension": ".py",
      "mimetype": "text/x-python",
      "name": "python",
      "nbconvert_exporter": "python",
      "pygments_lexer": "ipython3",
      "version": "3.11.5"
    }
  },
  "nbformat": 4,
  "nbformat_minor": 0
}
